{
 "cells": [
  {
   "cell_type": "code",
   "execution_count": 1,
   "id": "9b67a148-92ca-46fc-b4e8-e40e79a58bdc",
   "metadata": {},
   "outputs": [],
   "source": [
    "import requests\n",
    "import bs4\n"
   ]
  },
  {
   "cell_type": "code",
   "execution_count": 2,
   "id": "0fa51ec5-f5d5-4251-8015-6a4ed6afe45a",
   "metadata": {},
   "outputs": [
    {
     "data": {
      "text/plain": [
       "<Response [500]>"
      ]
     },
     "execution_count": 2,
     "metadata": {},
     "output_type": "execute_result"
    }
   ],
   "source": [
    "request1= requests.get('https://www.flipkart.com/motorola-edge-40-neo-black-beauty-128-gb/p/itm01cc46d96a79f?pid=MOBGQFX6JGTWFSGD&lid=LSTMOBGQFX6JGTWFSGDTXTCZS&marketplace=FLIPKART&store=tyy%2F4io&srno=b_1_1&otracker=browse&iid=0000a439-89ed-43bb-9ffb-31b782186fb3.MOBGQFX6JGTWFSGD.SEARCH&ssid=51lmd0ye7k0000001713167896903')\n",
    "request1\n"
   ]
  },
  {
   "cell_type": "code",
   "execution_count": 3,
   "id": "d11605a7-a1d8-4d54-87d9-f2cbab8dd5b1",
   "metadata": {},
   "outputs": [
    {
     "data": {
      "text/plain": [
       "b'<html><body><h1>500 Internal Server Error</h1>\\nAn internal server error occurred.\\n</body></html>\\n'"
      ]
     },
     "execution_count": 3,
     "metadata": {},
     "output_type": "execute_result"
    }
   ],
   "source": [
    "request1.content"
   ]
  },
  {
   "cell_type": "code",
   "execution_count": 5,
   "id": "254602d0-9ae7-4ac3-b0e8-4f81d6913998",
   "metadata": {},
   "outputs": [],
   "source": [
    "soup=bs4.BeautifulSoup(request1.text)"
   ]
  },
  {
   "cell_type": "code",
   "execution_count": 6,
   "id": "5f571649-bd9b-48c7-9870-68ab7385a946",
   "metadata": {},
   "outputs": [],
   "source": [
    "reviews=soup.findAll('div',{'class' :'t-ZTKy'});\n",
    "for review in reviews:\n",
    "    print(review.get_text()+ \"\\n\\n\")"
   ]
  },
  {
   "cell_type": "raw",
   "id": "4102d301-38ea-4068-81cb-1d72660db17a",
   "metadata": {},
   "source": []
  },
  {
   "cell_type": "code",
   "execution_count": null,
   "id": "04b25b2e-15af-4044-a5e0-d990b0c34bbd",
   "metadata": {},
   "outputs": [],
   "source": [
    "ratings=soup.find('div',{'class': '_2d4LTz'}).get_text();\n",
    "print(ratings)\n"
   ]
  },
  {
   "cell_type": "code",
   "execution_count": null,
   "id": "719b5c70-8d33-4fb8-8b9a-170664993e84",
   "metadata": {},
   "outputs": [],
   "source": [
    "individual_ratings=soup.findAll('div',{'class' :'_3LWZlK_1BLPMq'});\n",
    "for indi_rating in individual_ratings:\n",
    "    print(indi_rating.get_text()+\"\\n\\n\")"
   ]
  },
  {
   "cell_type": "code",
   "execution_count": null,
   "id": "3353e4d8-2b93-434d-a743-83db49fb9309",
   "metadata": {},
   "outputs": [],
   "source": [
    "tags=soup.find('span', {'class' :'yhB1nd GXgmTe'}).get_text();\n",
    "tags"
   ]
  },
  {
   "cell_type": "code",
   "execution_count": null,
   "id": "4ca88468-e097-428c-b211-929f34b9f90e",
   "metadata": {},
   "outputs": [],
   "source": [
    "customer_name= soup.findAll('p' , { 'class' : '_2sc7ZR _2V5EHH'});\n",
    "for cust in customer_name:\n",
    "    print(cust.get_text() + \"\\n\\n\")"
   ]
  },
  {
   "cell_type": "code",
   "execution_count": null,
   "id": "08534aa8-24da-47bd-a44d-76838a3021c6",
   "metadata": {},
   "outputs": [],
   "source": [
    "price= soup.find('div', {'class' : '_30jeq3 _16Jk6d'}).get_text();\n",
    "print(price)\n"
   ]
  },
  {
   "cell_type": "code",
   "execution_count": null,
   "id": "81e1757a-6309-487a-a24d-1f7460cc7e63",
   "metadata": {},
   "outputs": [],
   "source": []
  },
  {
   "cell_type": "code",
   "execution_count": null,
   "id": "72f328dc-7669-4573-a432-e72b879e4794",
   "metadata": {},
   "outputs": [],
   "source": [
    "spe = soup.find_all('td', {'class' : '_1hKmbr'});\n",
    "for s in spe:\n",
    "    print(s.get_text())\n",
    "    ans= s.findNext('td', {'class' : 'URwL2w'}).get_text();\n",
    "    print(ans)"
   ]
  },
  {
   "cell_type": "code",
   "execution_count": null,
   "id": "b702c3ee-f0c2-4bea-8e27-6586cf536a7d",
   "metadata": {},
   "outputs": [],
   "source": []
  },
  {
   "cell_type": "code",
   "execution_count": null,
   "id": "eaffe072-48f4-4bd7-abda-55523225c5ba",
   "metadata": {},
   "outputs": [],
   "source": []
  }
 ],
 "metadata": {
  "kernelspec": {
   "display_name": "Python 3 (ipykernel)",
   "language": "python",
   "name": "python3"
  },
  "language_info": {
   "codemirror_mode": {
    "name": "ipython",
    "version": 3
   },
   "file_extension": ".py",
   "mimetype": "text/x-python",
   "name": "python",
   "nbconvert_exporter": "python",
   "pygments_lexer": "ipython3",
   "version": "3.11.5"
  }
 },
 "nbformat": 4,
 "nbformat_minor": 5
}
